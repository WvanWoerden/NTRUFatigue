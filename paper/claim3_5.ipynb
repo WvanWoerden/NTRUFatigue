{
 "cells": [
  {
   "cell_type": "code",
   "execution_count": 29,
   "metadata": {},
   "outputs": [
    {
     "name": "stdout",
     "output_type": "stream",
     "text": [
      "We have:\n"
     ]
    },
    {
     "data": {
      "text/latex": [
       "$\\displaystyle q = N^Q, ||(g|f)|| = N^S, \\beta=B \\cdot N, k=K\\cdot N, i=I \\cdot N$"
      ],
      "text/plain": [
       "<IPython.core.display.Math object>"
      ]
     },
     "metadata": {},
     "output_type": "display_data"
    },
    {
     "name": "stdout",
     "output_type": "stream",
     "text": [
      "Then:\n"
     ]
    },
    {
     "data": {
      "text/latex": [
       "$\\displaystyle \\log(q)= Q \\log\\left(N\\right)$"
      ],
      "text/plain": [
       "<IPython.core.display.Math object>"
      ]
     },
     "metadata": {},
     "output_type": "display_data"
    },
    {
     "data": {
      "text/latex": [
       "$\\displaystyle \\log(\\alpha_\\beta)= \\frac{1}{B} N^{-1} \\log\\left(N\\right) + O\\!\\left(N^{-1}\\right)$"
      ],
      "text/plain": [
       "<IPython.core.display.Math object>"
      ]
     },
     "metadata": {},
     "output_type": "display_data"
    },
    {
     "data": {
      "text/latex": [
       "$\\displaystyle m= \\frac{1}{2} \\, B Q N + O\\!\\left(N \\log\\left(N\\right)^{-1}\\right)$"
      ],
      "text/plain": [
       "<IPython.core.display.Math object>"
      ]
     },
     "metadata": {},
     "output_type": "display_data"
    },
    {
     "name": "stdout",
     "output_type": "stream",
     "text": [
      "So for the middle part, n-m<i<n+m-1, we have with i=I*N that:\n"
     ]
    },
    {
     "data": {
      "text/latex": [
       "$\\displaystyle |b_i^*|= \\frac{1}{2} \\, {\\left(Q - \\frac{2 \\, {\\left(I - 1\\right)}}{B}\\right)} \\log\\left(N\\right) + \\mathcal{O}\\left(1\\right)$"
      ],
      "text/plain": [
       "<IPython.core.display.Math object>"
      ]
     },
     "metadata": {},
     "output_type": "display_data"
    }
   ],
   "source": [
    "from IPython.display import Math\n",
    "def printMath(x):\n",
    "    Math(latex(optK))\n",
    "    \n",
    "A.<N> = AsymptoticRing(growth_group='N^QQ * log(N)^ZZ', coefficient_ring=ZZ)\n",
    "var('B', 'Q', 'K', 'S', 'I', 'n')\n",
    "print(\"We have:\")\n",
    "display(Math(rf'q = N^Q, ||(g|f)|| = N^S, \\beta=B \\cdot N, k=K\\cdot N, i=I \\cdot N'))\n",
    "\n",
    "normgf = N^S\n",
    "k=K*N\n",
    "logq = log(N^Q)\n",
    "logab = log(N)/(B*N)+O(N^(-1))\n",
    "m = 1/2*Q*B*N + O(N/log(N))\n",
    "print(\"Then:\")\n",
    "display(Math(rf'\\log(q)= {latex(logq)}'))\n",
    "display(Math(rf'\\log(\\alpha_\\beta)= {latex(logab)}'))\n",
    "display(Math(rf'm= {latex(m)}'))\n",
    "\n",
    "logb(I) = logq/2 + (2*N-1-2*I*N)/2 * logab\n",
    "print(\"So for the middle part, n-m<i<n+m-1, we have with i=I*N that:\")\n",
    "display(Math(rf'|b_i^*|= {latex(logb(I))}'))"
   ]
  },
  {
   "cell_type": "code",
   "execution_count": 50,
   "metadata": {},
   "outputs": [
    {
     "name": "stdout",
     "output_type": "stream",
     "text": [
      "We now compute:\n"
     ]
    },
    {
     "data": {
      "text/latex": [
       "$\\displaystyle \\sum_{i=n+k}^{n+m-1} \\ln(|b_i^*|)$"
      ],
      "text/plain": [
       "<IPython.core.display.Math object>"
      ]
     },
     "metadata": {},
     "output_type": "display_data"
    },
    {
     "name": "stdout",
     "output_type": "stream",
     "text": [
      "We have:\n"
     ]
    },
    {
     "data": {
      "text/latex": [
       "$\\displaystyle \\ln(|b_{n+k}^*|) = \\frac{1}{2} \\, {\\left(Q - \\frac{2 \\, K}{B}\\right)} \\log\\left(N\\right) + \\mathcal{O}\\left(1\\right)$"
      ],
      "text/plain": [
       "<IPython.core.display.Math object>"
      ]
     },
     "metadata": {},
     "output_type": "display_data"
    },
    {
     "name": "stdout",
     "output_type": "stream",
     "text": [
      "And by definition:\n"
     ]
    },
    {
     "data": {
      "text/latex": [
       "$\\displaystyle \\ln(|b_{n+m-1}^*|) = \\mathcal{O}\\left(1\\right)$"
      ],
      "text/plain": [
       "<IPython.core.display.Math object>"
      ]
     },
     "metadata": {},
     "output_type": "display_data"
    },
    {
     "name": "stdout",
     "output_type": "stream",
     "text": [
      "So the sum equals:\n"
     ]
    },
    {
     "data": {
      "text/latex": [
       "$\\displaystyle \\sum_{i=n+k}^{n+m-1} \\ln(b_i^*|)=1/2 \\cdot (n+m-(n+k)) \\cdot \\ln(|b_{n+k}^*|)\\\\= \\left(\\frac{1}{8} \\, {\\left(B Q - 2 \\, K\\right)} {\\left(Q - \\frac{2 \\, K}{B}\\right)}\\right) N \\log\\left(N\\right) + O\\!\\left(N\\right)$"
      ],
      "text/plain": [
       "<IPython.core.display.Math object>"
      ]
     },
     "metadata": {},
     "output_type": "display_data"
    }
   ],
   "source": [
    "print(\"We now compute:\")\n",
    "display(Math(r'\\sum_{i=n+k}^{n+m-1} \\ln(|b_i^*|)'))\n",
    "print(\"We have:\")\n",
    "display(Math(r'\\ln(|b_{n+k}^*|) = '+rf'{latex(logb(1+K))}'))\n",
    "print(\"And by definition:\")\n",
    "display(Math(r'\\ln(|b_{n+m-1}^*|) = '+rf'{latex(logb(1+B*Q/2))}'))\n",
    "logdet_last =1/2* (N+m-(N+K*N))*(1/2*(Q - 2*K/B)*log(N)+O(N^0))\n",
    "print(\"So the sum equals:\")\n",
    "display(Math(r'\\sum_{i=n+k}^{n+m-1} \\ln(b_i^*|)=1/2 \\cdot (n+m-(n+k)) \\cdot \\ln(|b_{n+k}^*|)\\\\'+rf'= {latex(logdet_last)}'))"
   ]
  },
  {
   "cell_type": "code",
   "execution_count": 63,
   "metadata": {},
   "outputs": [
    {
     "name": "stdout",
     "output_type": "stream",
     "text": [
      "We bound the volume of the sublattice by the Hadamard bound:\n"
     ]
    },
    {
     "data": {
      "text/latex": [
       "$\\displaystyle \\ln(vol(L^{GF})) \\leq N\\cdot ||(g|f)||= S N \\log\\left(N\\right)$"
      ],
      "text/plain": [
       "<IPython.core.display.Math object>"
      ]
     },
     "metadata": {},
     "output_type": "display_data"
    },
    {
     "name": "stdout",
     "output_type": "stream",
     "text": [
      "So by Corollary 3.4 we bound the volume of the intersection by\n"
     ]
    },
    {
     "data": {
      "text/latex": [
       "$\\displaystyle \\ln(vol(\\mathcal{L}_{\\lbrack 0:n+k)})) \\leq \\ln(vol(L^{GF}))-\\sum_{i=n+k}^{n+m-1} ln(b_i^*|)\\leq\\left(-\\frac{1}{8} \\, {\\left(B Q - 2 \\, K\\right)} {\\left(Q - \\frac{2 \\, K}{B}\\right)} + S\\right) N \\log\\left(N\\right) + O\\!\\left(N\\right)$"
      ],
      "text/plain": [
       "<IPython.core.display.Math object>"
      ]
     },
     "metadata": {},
     "output_type": "display_data"
    },
    {
     "name": "stdout",
     "output_type": "stream",
     "text": [
      "Then Minkowski bounds the first minimum of the intersection by\n"
     ]
    },
    {
     "data": {
      "text/latex": [
       "$\\displaystyle \\ln(\\lambda_1(\\mathcal{L}_{\\lbrack 0:n+k)})) \\leq\\left(-\\frac{{\\left(B Q - 2 \\, K\\right)} {\\left(Q - \\frac{2 \\, K}{B}\\right)} - 8 \\, S}{8 \\, K} + \\frac{1}{2}\\right) \\log\\left(N\\right) + O\\!\\left(1\\right)$"
      ],
      "text/plain": [
       "<IPython.core.display.Math object>"
      ]
     },
     "metadata": {},
     "output_type": "display_data"
    },
    {
     "name": "stdout",
     "output_type": "stream",
     "text": [
      "BKZ detects this short vector if (after projecting) it is smaller than:\n"
     ]
    },
    {
     "data": {
      "text/latex": [
       "$\\displaystyle \\ln(|b_{n+k-\\beta}^*|) = \\frac{1}{2} \\, {\\left(Q + \\frac{2 \\, {\\left(B - K\\right)}}{B}\\right)} \\log\\left(N\\right) + \\mathcal{O}\\left(1\\right)$"
      ],
      "text/plain": [
       "<IPython.core.display.Math object>"
      ]
     },
     "metadata": {},
     "output_type": "display_data"
    }
   ],
   "source": [
    "logdet_sub = N*log(normgf)\n",
    "print(\"We bound the volume of the sublattice by the Hadamard bound:\")\n",
    "display(Math(r'\\ln(vol(L^{GF})) \\leq N\\cdot ||(g|f)||='+rf' {latex(logdet_sub)}'))\n",
    "logdet_int = logdet_sub-logdet_last\n",
    "print(\"So by Corollary 3.4 we bound the volume of the intersection by\")\n",
    "display(Math(r'\\ln(vol(\\mathcal{L}_{\\lbrack 0:n+k)})) \\leq \\ln(vol(L^{GF}))-\\sum_{i=n+k}^{n+m-1} ln(b_i^*|)\\leq'+rf'{latex(logdet_int)}'))\n",
    "loglambda_int = log(k)/2 + logdet_int/k\n",
    "print(\"Then Minkowski bounds the first minimum of the intersection by\")\n",
    "display(Math(r'\\ln(\\lambda_1(\\mathcal{L}_{\\lbrack 0:n+k)})) \\leq'+rf'{latex(loglambda_int)}'))\n",
    "print(\"BKZ detects this short vector if (after projecting) it is smaller than:\")\n",
    "display(Math(r'\\ln(|b_{n+k-\\beta}^*|) = '+rf'{latex(logb(1+K-B))}'))\n",
    "eq =  (-1/8*((B*Q - 2*K)*(Q - 2*K/B) - 8*S)/K + 1/2)==1/2*(Q + 2*(B - K)/B)"
   ]
  },
  {
   "cell_type": "code",
   "execution_count": 74,
   "metadata": {},
   "outputs": [
    {
     "name": "stdout",
     "output_type": "stream",
     "text": [
      "So we need to solve the following equation for B: \n"
     ]
    },
    {
     "data": {
      "text/latex": [
       "$\\displaystyle -\\frac{{\\left(B Q - 2 \\, K\\right)} {\\left(Q - \\frac{2 \\, K}{B}\\right)} - 8 \\, S}{8 \\, K} + \\frac{1}{2} = \\frac{1}{2} \\, Q + \\frac{B - K}{B}$"
      ],
      "text/plain": [
       "<IPython.core.display.Math object>"
      ]
     },
     "metadata": {},
     "output_type": "display_data"
    },
    {
     "name": "stdout",
     "output_type": "stream",
     "text": [
      "This has solution:\n"
     ]
    },
    {
     "data": {
      "text/latex": [
       "$\\displaystyle B=-\\frac{2 \\, {\\left(K - 2 \\, S - \\sqrt{K^{2} Q^{2} + K^{2} - 4 \\, K S + 4 \\, S^{2}}\\right)}}{Q^{2}}$"
      ],
      "text/plain": [
       "<IPython.core.display.Math object>"
      ]
     },
     "metadata": {},
     "output_type": "display_data"
    },
    {
     "name": "stdout",
     "output_type": "stream",
     "text": [
      "We optimize K for a minimal B by taking the derivative to K, and finding the roots w.r.t to K of:\n"
     ]
    },
    {
     "data": {
      "text/latex": [
       "$\\displaystyle \\frac{dB}{dK}=\\frac{2 \\, {\\left(\\frac{K Q^{2} + K - 2 \\, S}{\\sqrt{K^{2} Q^{2} + K^{2} - 4 \\, K S + 4 \\, S^{2}}} - 1\\right)}}{Q^{2}}=0$"
      ],
      "text/plain": [
       "<IPython.core.display.Math object>"
      ]
     },
     "metadata": {},
     "output_type": "display_data"
    },
    {
     "name": "stdout",
     "output_type": "stream",
     "text": [
      "This is equivalent to solving:\n"
     ]
    },
    {
     "data": {
      "text/latex": [
       "$\\displaystyle K Q^{2} + K - 2 \\, S = \\sqrt{K^{2} Q^{2} + K^{2} - 4 \\, K S + 4 \\, S^{2}}$"
      ],
      "text/plain": [
       "<IPython.core.display.Math object>"
      ]
     },
     "metadata": {},
     "output_type": "display_data"
    },
    {
     "name": "stdout",
     "output_type": "stream",
     "text": [
      "And by squaring both sides: \n"
     ]
    },
    {
     "data": {
      "text/latex": [
       "$\\displaystyle {\\left(K Q^{2} + K - 2 \\, S\\right)}^{2} = K^{2} Q^{2} + K^{2} - 4 \\, K S + 4 \\, S^{2}$"
      ],
      "text/plain": [
       "<IPython.core.display.Math object>"
      ]
     },
     "metadata": {},
     "output_type": "display_data"
    },
    {
     "name": "stdout",
     "output_type": "stream",
     "text": [
      "Which has solution: \n"
     ]
    },
    {
     "data": {
      "text/latex": [
       "$\\displaystyle K = \\frac{4 \\, S}{Q^{2} + 1}$"
      ],
      "text/plain": [
       "<IPython.core.display.Math object>"
      ]
     },
     "metadata": {},
     "output_type": "display_data"
    },
    {
     "name": "stdout",
     "output_type": "stream",
     "text": [
      "Replacing K by this value gives the solution\n"
     ]
    },
    {
     "data": {
      "text/latex": [
       "$\\displaystyle B=\\frac{8 \\, S}{Q^{2} + 1}$"
      ],
      "text/plain": [
       "<IPython.core.display.Math object>"
      ]
     },
     "metadata": {},
     "output_type": "display_data"
    },
    {
     "name": "stdout",
     "output_type": "stream",
     "text": [
      "This concludes the proof.\n"
     ]
    }
   ],
   "source": [
    "print(\"So we need to solve the following equation for B: \")\n",
    "display(Math(latex(eq)))\n",
    "solB = eq.solve(B)[1].right() \n",
    "print(\"This has solution:\")\n",
    "display(Math(rf'B={latex(solB)}'))\n",
    "print(\"We optimize K for a minimal B by taking the derivative to K, and finding the roots w.r.t to K of:\")\n",
    "dBdK = derivative(solB, K)\n",
    "display(Math(r'\\frac{dB}{dK}'+rf'={latex(dBdK)}=0'))\n",
    "print(\"This is equivalent to solving:\")\n",
    "display(Math(latex((K*Q^2 + K - 2*S)==sqrt(K^2*Q^2 + K^2 - 4*K*S + 4*S^2))))\n",
    "eq2 = (K*Q^2 + K - 2*S)^2==K^2*Q^2 + K^2 - 4*K*S + 4*S^2\n",
    "print(\"And by squaring both sides: \")\n",
    "display(Math(latex(eq2)))\n",
    "print(\"Which has solution: \")\n",
    "display(Math(latex(eq2.solve(K)[0])))\n",
    "optK = eq2.solve(K)[0].right()\n",
    "assume(S>0)\n",
    "print(\"Replacing K by this value gives the solution\")\n",
    "display(Math(r'B='+rf'{(latex(solB(K=optK).expand().simplify_full()))}'))\n",
    "print(\"This concludes the proof.\")"
   ]
  }
 ],
 "metadata": {
  "kernelspec": {
   "display_name": "SageMath 9.2",
   "language": "sage",
   "name": "sagemath"
  },
  "language_info": {
   "codemirror_mode": {
    "name": "ipython",
    "version": 3
   },
   "file_extension": ".py",
   "mimetype": "text/x-python",
   "name": "python",
   "nbconvert_exporter": "python",
   "pygments_lexer": "ipython3",
   "version": "3.8.5"
  }
 },
 "nbformat": 4,
 "nbformat_minor": 4
}
